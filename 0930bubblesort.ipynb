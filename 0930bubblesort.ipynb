{
  "nbformat": 4,
  "nbformat_minor": 0,
  "metadata": {
    "colab": {
      "name": "bubblesort.ipynb",
      "provenance": [],
      "include_colab_link": true
    },
    "kernelspec": {
      "name": "python3",
      "display_name": "Python 3"
    }
  },
  "cells": [
    {
      "cell_type": "markdown",
      "metadata": {
        "id": "view-in-github",
        "colab_type": "text"
      },
      "source": [
        "<a href=\"https://colab.research.google.com/github/GraceLin-28/S10755029-0923/blob/master/0930bubblesort.ipynb\" target=\"_parent\"><img src=\"https://colab.research.google.com/assets/colab-badge.svg\" alt=\"Open In Colab\"/></a>"
      ]
    },
    {
      "cell_type": "markdown",
      "metadata": {
        "id": "32sgU0StMiof"
      },
      "source": [
        "Bubble sort (氣泡排序)"
      ]
    },
    {
      "cell_type": "code",
      "metadata": {
        "id": "esB_4fSeMLYJ",
        "outputId": "f09675a4-5536-4f41-ae55-cafb752f6569",
        "colab": {
          "base_uri": "https://localhost:8080/",
          "height": 137
        }
      },
      "source": [
        "def Bubble_Sort(datas):\n",
        "    for i in range(1, len(datas)): # \n",
        "        for j in range(len(datas)-i):   # \n",
        "            if datas[j] > datas[j+1]:   # \n",
        "                datas[j], datas[j+1] = datas[j+1], datas[j]\n",
        "    return datas\n",
        "\n",
        "l = []                 #設定一個清單\n",
        "i=1                   #i為輸入數字的次數\n",
        "while i<=6:               #輸入6個數字，所以次數為小於等於6\n",
        "    n = int(input(\"請輸入數字:\")); #n為輸入的字串要是整數，所以用int包起來\n",
        "    l.append(n);           #要將n加入清單\n",
        "    i=i+1;              #計算輸入幾次數字，也就是計算輸入幾個數字\n",
        "    print(l);             #把清單目前狀況列出來\n",
        "    v = Bubble_Sort(l);       #泡沫排序法此清單\n",
        "    print(v);             #把排序過後的清單列出來\n",
        "\n",
        "#if __name__ == '__main__':     以下是一開始想到一個一個呈現，但是這個方法不太實用，所以想了上面迴圈的方法。\n",
        "    #import random\n",
        "    #a = list(range(20))\n",
        "    #random.shuffle(a)\n",
        "    #a = input(\"第一個數字:\")\n",
        "    #a=int(a)\n",
        "    #b = input('第二個數字:')\n",
        "    #b=int(b)\n",
        "    #c = input('第三個數字:')\n",
        "    #c=int(c)\n",
        "    #list =[a,b,c]\n",
        "    #print(list)\n",
        "    #v = Bubble_Sort(list)\n",
        "    #print(v)"
      ],
      "execution_count": null,
      "outputs": [
        {
          "output_type": "stream",
          "text": [
            "請輸入數字:6\n",
            "[6]\n",
            "[6]\n",
            "請輸入數字:2\n",
            "[6, 2]\n",
            "[2, 6]\n"
          ],
          "name": "stdout"
        }
      ]
    },
    {
      "cell_type": "markdown",
      "metadata": {
        "id": "MOQ_aZKnM-wL"
      },
      "source": [
        "請加入註解，並將程式修改為加入六個數做氣泡排序\n"
      ]
    }
  ]
}