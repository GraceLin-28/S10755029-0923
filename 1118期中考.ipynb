{
  "nbformat": 4,
  "nbformat_minor": 0,
  "metadata": {
    "colab": {
      "name": "Untitled3.ipynb",
      "provenance": [],
      "collapsed_sections": [],
      "authorship_tag": "ABX9TyM1AF1XnPHI2D7gKss501PL",
      "include_colab_link": true
    },
    "kernelspec": {
      "name": "python3",
      "display_name": "Python 3"
    }
  },
  "cells": [
    {
      "cell_type": "markdown",
      "metadata": {
        "id": "view-in-github",
        "colab_type": "text"
      },
      "source": [
        "<a href=\"https://colab.research.google.com/github/GraceLin-28/S10755029-0923/blob/master/1118%E6%9C%9F%E4%B8%AD%E8%80%83.ipynb\" target=\"_parent\"><img src=\"https://colab.research.google.com/assets/colab-badge.svg\" alt=\"Open In Colab\"/></a>"
      ]
    },
    {
      "cell_type": "markdown",
      "metadata": {
        "id": "K0-EMBOx90QB"
      },
      "source": [
        "選擇排序法(隨機出現8個數字)"
      ]
    },
    {
      "cell_type": "code",
      "metadata": {
        "colab": {
          "base_uri": "https://localhost:8080/"
        },
        "id": "_6xn2ulFSy6a",
        "outputId": "906e78d8-34a7-4825-e525-870a1fc88501"
      },
      "source": [
        "import random                     \n",
        "U=[random.randint(1,100) for _ in range(8)]     #U為在1到100之間隨機抽取八個數字\n",
        "print(\"未經排序: \",U)                  #輸出未經排序且隨機的序列\n",
        "\n",
        "\n",
        "for i in range(len(U)):              #把i當成索引值\n",
        "  max = i                     #拿max存取目前未排序數列中的第一個數字，每跑一次for迴圈，就會改變。\n",
        "  for j in range(i,len(U)):           #儲存循序取出來的變數，\n",
        "    if U[j] > U[max]:             #循序比較判斷j是否大於目前的最大值\n",
        "      max = j                 #目前最大值等於j\n",
        "  U[i], U[max] = U[max], U[i]          #將i與目前最大值的位置互換\n",
        "  \n",
        "  print(\"這是第 \", i+1, \" 次選擇排序:\", U)   #輸出每一次排序後的結果"
      ],
      "execution_count": 94,
      "outputs": [
        {
          "output_type": "stream",
          "text": [
            "未經排序:  [31, 19, 16, 43, 13, 32, 67, 43]\n",
            "這是第  1  次選擇排序: [67, 19, 16, 43, 13, 32, 31, 43]\n",
            "這是第  2  次選擇排序: [67, 43, 16, 19, 13, 32, 31, 43]\n",
            "這是第  3  次選擇排序: [67, 43, 43, 19, 13, 32, 31, 16]\n",
            "這是第  4  次選擇排序: [67, 43, 43, 32, 13, 19, 31, 16]\n",
            "這是第  5  次選擇排序: [67, 43, 43, 32, 31, 19, 13, 16]\n",
            "這是第  6  次選擇排序: [67, 43, 43, 32, 31, 19, 13, 16]\n",
            "這是第  7  次選擇排序: [67, 43, 43, 32, 31, 19, 16, 13]\n",
            "這是第  8  次選擇排序: [67, 43, 43, 32, 31, 19, 16, 13]\n"
          ],
          "name": "stdout"
        }
      ]
    }
  ]
}