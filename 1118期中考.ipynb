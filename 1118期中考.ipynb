{
  "nbformat": 4,
  "nbformat_minor": 0,
  "metadata": {
    "colab": {
      "name": "Untitled3.ipynb",
      "provenance": [],
      "collapsed_sections": [],
      "authorship_tag": "ABX9TyObebWSFWthZElp7Vz8Ru/r",
      "include_colab_link": true
    },
    "kernelspec": {
      "name": "python3",
      "display_name": "Python 3"
    }
  },
  "cells": [
    {
      "cell_type": "markdown",
      "metadata": {
        "id": "view-in-github",
        "colab_type": "text"
      },
      "source": [
        "<a href=\"https://colab.research.google.com/github/GraceLin-28/S10755029-0923/blob/master/1118%E6%9C%9F%E4%B8%AD%E8%80%83.ipynb\" target=\"_parent\"><img src=\"https://colab.research.google.com/assets/colab-badge.svg\" alt=\"Open In Colab\"/></a>"
      ]
    },
    {
      "cell_type": "markdown",
      "metadata": {
        "id": "K0-EMBOx90QB"
      },
      "source": [
        "選擇排序法(隨機出現8個數字)\n",
        "由大到小排列"
      ]
    },
    {
      "cell_type": "code",
      "metadata": {
        "colab": {
          "base_uri": "https://localhost:8080/"
        },
        "id": "_6xn2ulFSy6a",
        "outputId": "2f2d611a-fada-4740-b2b8-167942c58996"
      },
      "source": [
        "import random                     \n",
        "U=[random.randint(1,100) for _ in range(8)]     #U為在1到100之間隨機抽取八個數字的串列。\n",
        "print(\"未經排序: \",U)                  #輸出未經排序且隨機的串列。\n",
        "\n",
        "\n",
        "for i in range(len(U)):              #i表示目前的索引值，同時可以表示執行到第幾次\n",
        "  max = i                     #拿max存取目前未排序數列中的第一個數字，每跑一次for迴圈，就會改變\n",
        "  for j in range(i,len(U)):           #j為目前循序取到的位址，range(i,len(U))表示開始值為目前索引值i，到次U串列的最後位址。\n",
        "    if U[j] > U[max]:             #循序比較判斷U[j]是否大於目前的最大值(i位址上的數值)\n",
        "      max = j                 #一開始假設i位址為當下迴圈中的最大值，而此時若符合判斷是，目前最大值則為j位址上的數值\n",
        "  U[i], U[max] = U[max], U[i]          #將i與目前最大值的位置互換\n",
        "  \n",
        "  print(\"這是第 \", i+1, \" 次選擇排序:\", U)   #輸出每一次排序後的結果"
      ],
      "execution_count": 5,
      "outputs": [
        {
          "output_type": "stream",
          "text": [
            "未經排序:  [24, 26, 100, 23, 56, 76, 38, 94]\n",
            "這是第  1  次選擇排序: [100, 26, 24, 23, 56, 76, 38, 94]\n",
            "這是第  2  次選擇排序: [100, 94, 24, 23, 56, 76, 38, 26]\n",
            "這是第  3  次選擇排序: [100, 94, 76, 23, 56, 24, 38, 26]\n",
            "這是第  4  次選擇排序: [100, 94, 76, 56, 23, 24, 38, 26]\n",
            "這是第  5  次選擇排序: [100, 94, 76, 56, 38, 24, 23, 26]\n",
            "這是第  6  次選擇排序: [100, 94, 76, 56, 38, 26, 23, 24]\n",
            "這是第  7  次選擇排序: [100, 94, 76, 56, 38, 26, 24, 23]\n",
            "這是第  8  次選擇排序: [100, 94, 76, 56, 38, 26, 24, 23]\n"
          ],
          "name": "stdout"
        }
      ]
    },
    {
      "cell_type": "markdown",
      "metadata": {
        "id": "IkImOvRzFUIl"
      },
      "source": [
        "插入排序法(隨機產生8個數字)由小到大排列"
      ]
    },
    {
      "cell_type": "code",
      "metadata": {
        "id": "_loTbOoZFfcD",
        "outputId": "1766244a-ce40-4eef-b7f6-9d9d57144e0f",
        "colab": {
          "base_uri": "https://localhost:8080/"
        }
      },
      "source": [
        "import random                     \n",
        "U=[random.randint(1,100) for _ in range(8)]      #U為在1到100之間隨機抽取八個數字的串列。\n",
        "print(\"未經排序: \",U)                  #輸出未經排序且隨機的串列。\n",
        "\n",
        "for i in range(len(U)):                #i表示目前的索引值，同時可以表示執行到第幾次\n",
        "  for j in range(i,0,-1):              #j則是目前從i往前比較後，所存放的當下數值，range(i,0,-1)指的是從i的位置開始，到序列開始的位置，由於比對方向是往前所以最需寫上-1。\n",
        "    if U[j] < U[j-1]:               #j只是代表索引值目前的位址，所以要顯示此位址當下的數值時，需用U[j]表示，而如果目前j位址上的數值比前一位小的話，\n",
        "      U[j],U[j-1] = U[j-1],U[j]          #此數值不斷地往前比較，直到沒有更小值出現，才能停止比較，互換位址。\n",
        "  print(\"這是第 \", i+1, \" 次選擇排序:\", U)     #輸出每一次排序後的結果。"
      ],
      "execution_count": 6,
      "outputs": [
        {
          "output_type": "stream",
          "text": [
            "未經排序:  [1, 56, 98, 67, 88, 51, 71, 99]\n",
            "這是第  1  次選擇排序: [1, 56, 98, 67, 88, 51, 71, 99]\n",
            "這是第  2  次選擇排序: [1, 56, 98, 67, 88, 51, 71, 99]\n",
            "這是第  3  次選擇排序: [1, 56, 98, 67, 88, 51, 71, 99]\n",
            "這是第  4  次選擇排序: [1, 56, 67, 98, 88, 51, 71, 99]\n",
            "這是第  5  次選擇排序: [1, 56, 67, 88, 98, 51, 71, 99]\n",
            "這是第  6  次選擇排序: [1, 51, 56, 67, 88, 98, 71, 99]\n",
            "這是第  7  次選擇排序: [1, 51, 56, 67, 71, 88, 98, 99]\n",
            "這是第  8  次選擇排序: [1, 51, 56, 67, 71, 88, 98, 99]\n"
          ],
          "name": "stdout"
        }
      ]
    }
  ]
}