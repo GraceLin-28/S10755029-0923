{
  "nbformat": 4,
  "nbformat_minor": 0,
  "metadata": {
    "colab": {
      "name": "Untitled3.ipynb",
      "provenance": [],
      "collapsed_sections": [],
      "authorship_tag": "ABX9TyO83RUQAhkJRhELwf+tkfnd",
      "include_colab_link": true
    },
    "kernelspec": {
      "name": "python3",
      "display_name": "Python 3"
    }
  },
  "cells": [
    {
      "cell_type": "markdown",
      "metadata": {
        "id": "view-in-github",
        "colab_type": "text"
      },
      "source": [
        "<a href=\"https://colab.research.google.com/github/GraceLin-28/S10755029-0923/blob/master/1118%E6%9C%9F%E4%B8%AD%E8%80%83.ipynb\" target=\"_parent\"><img src=\"https://colab.research.google.com/assets/colab-badge.svg\" alt=\"Open In Colab\"/></a>"
      ]
    },
    {
      "cell_type": "markdown",
      "metadata": {
        "id": "K0-EMBOx90QB"
      },
      "source": [
        "選擇排序法(隨機出現8個數字)"
      ]
    },
    {
      "cell_type": "code",
      "metadata": {
        "colab": {
          "base_uri": "https://localhost:8080/"
        },
        "id": "_6xn2ulFSy6a",
        "outputId": "561677bc-2187-460e-980c-43d2a34668bf"
      },
      "source": [
        "import random\n",
        "U=[random.randint(1,100) for _ in range(8)]\n",
        "print(未經排序:U)\n",
        "  \n",
        "for i in range(len(U)):\n",
        "  max_idx = i \n",
        "  for j in range(i,len(U)): \n",
        "    if U[j] > U[max_idx]: \n",
        "      max_idx = j        \n",
        "  U[i], U[max_idx] = U[max_idx],  U[i] \n",
        "  \n",
        "  print('這是第 ', i+1, ' 次選擇排序:', U)"
      ],
      "execution_count": 63,
      "outputs": [
        {
          "output_type": "stream",
          "text": [
            "[20, 81, 58, 52, 9, 44, 24, 99]\n",
            "這是第  1  次選擇排序: [99, 81, 58, 52, 9, 44, 24, 20]\n",
            "這是第  2  次選擇排序: [99, 81, 58, 52, 9, 44, 24, 20]\n",
            "這是第  3  次選擇排序: [99, 81, 58, 52, 9, 44, 24, 20]\n",
            "這是第  4  次選擇排序: [99, 81, 58, 52, 9, 44, 24, 20]\n",
            "這是第  5  次選擇排序: [99, 81, 58, 52, 44, 9, 24, 20]\n",
            "這是第  6  次選擇排序: [99, 81, 58, 52, 44, 24, 9, 20]\n",
            "這是第  7  次選擇排序: [99, 81, 58, 52, 44, 24, 20, 9]\n",
            "這是第  8  次選擇排序: [99, 81, 58, 52, 44, 24, 20, 9]\n"
          ],
          "name": "stdout"
        }
      ]
    }
  ]
}