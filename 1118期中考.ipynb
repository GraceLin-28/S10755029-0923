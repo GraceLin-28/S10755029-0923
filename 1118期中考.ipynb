{
  "nbformat": 4,
  "nbformat_minor": 0,
  "metadata": {
    "colab": {
      "name": "Untitled3.ipynb",
      "provenance": [],
      "collapsed_sections": [],
      "authorship_tag": "ABX9TyMxJsmmKmDNBcYPd7oNI+I0",
      "include_colab_link": true
    },
    "kernelspec": {
      "name": "python3",
      "display_name": "Python 3"
    }
  },
  "cells": [
    {
      "cell_type": "markdown",
      "metadata": {
        "id": "view-in-github",
        "colab_type": "text"
      },
      "source": [
        "<a href=\"https://colab.research.google.com/github/GraceLin-28/S10755029-0923/blob/master/1118%E6%9C%9F%E4%B8%AD%E8%80%83.ipynb\" target=\"_parent\"><img src=\"https://colab.research.google.com/assets/colab-badge.svg\" alt=\"Open In Colab\"/></a>"
      ]
    },
    {
      "cell_type": "markdown",
      "metadata": {
        "id": "K0-EMBOx90QB"
      },
      "source": [
        "選擇排序法(隨機出現8個數字)"
      ]
    },
    {
      "cell_type": "code",
      "metadata": {
        "colab": {
          "base_uri": "https://localhost:8080/"
        },
        "id": "_6xn2ulFSy6a",
        "outputId": "2e731ee9-9459-4389-bff2-02a6f02b19b0"
      },
      "source": [
        "import random\n",
        "A=[random.randint(1,100) for _ in range(8)]\n",
        "print(A)\n",
        "  \n",
        "for i in range(len(A)):\n",
        "  max_idx = i \n",
        "  for j in range(i,len(A)): \n",
        "    if A[j] > A[max_idx]: \n",
        "      max_idx = j        \n",
        "  A[i], A[max_idx] = A[max_idx], A[i] \n",
        "  \n",
        "  print('這是第 ', i+1, ' 次選擇排序:', A)"
      ],
      "execution_count": 59,
      "outputs": [
        {
          "output_type": "stream",
          "text": [
            "[17, 79, 38, 60, 40, 31, 67, 35]\n",
            "這是第  1  次選擇排序: [79, 17, 38, 60, 40, 31, 67, 35]\n",
            "這是第  2  次選擇排序: [79, 67, 38, 60, 40, 31, 17, 35]\n",
            "這是第  3  次選擇排序: [79, 67, 60, 38, 40, 31, 17, 35]\n",
            "這是第  4  次選擇排序: [79, 67, 60, 40, 38, 31, 17, 35]\n",
            "這是第  5  次選擇排序: [79, 67, 60, 40, 38, 31, 17, 35]\n",
            "這是第  6  次選擇排序: [79, 67, 60, 40, 38, 35, 17, 31]\n",
            "這是第  7  次選擇排序: [79, 67, 60, 40, 38, 35, 31, 17]\n",
            "這是第  8  次選擇排序: [79, 67, 60, 40, 38, 35, 31, 17]\n"
          ],
          "name": "stdout"
        }
      ]
    }
  ]
}