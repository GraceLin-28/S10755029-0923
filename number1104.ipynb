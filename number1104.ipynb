{
  "nbformat": 4,
  "nbformat_minor": 0,
  "metadata": {
    "colab": {
      "name": "Untitled2.ipynb",
      "provenance": [],
      "collapsed_sections": [],
      "authorship_tag": "ABX9TyMc9wMs0TsmKeSBq9jvku8e",
      "include_colab_link": true
    },
    "kernelspec": {
      "name": "python3",
      "display_name": "Python 3"
    }
  },
  "cells": [
    {
      "cell_type": "markdown",
      "metadata": {
        "id": "view-in-github",
        "colab_type": "text"
      },
      "source": [
        "<a href=\"https://colab.research.google.com/github/GraceLin-28/S10755029-0923/blob/master/number1104.ipynb\" target=\"_parent\"><img src=\"https://colab.research.google.com/assets/colab-badge.svg\" alt=\"Open In Colab\"/></a>"
      ]
    },
    {
      "cell_type": "code",
      "metadata": {
        "id": "JNaoEE2bI6uc",
        "outputId": "d538ea8b-0fcb-477f-a416-76f891a10c15",
        "colab": {
          "base_uri": "https://localhost:8080/"
        }
      },
      "source": [
        "import random\n",
        "\n",
        "s=random.randint(1,100)\n",
        "print(s)\n",
        "min=0\n",
        "max=100\n",
        "\n",
        "while True:\n",
        "  n=int(input(\"請輸入任意一整數:\"))\n",
        "  if n==s:\n",
        "    print(\"猜對了\")\n",
        "    break\n",
        "  elif n<min:\n",
        "    print(\"請輸入大於%d的數字\" %min)\n",
        "  elif n>max:\n",
        "    print(\"請輸入小於%d的數字\" %max)\n",
        "  elif n>s:\n",
        "    max=n\n",
        "    print(\"請輸入%d-%d任意一整數\" %(min,max))\n",
        "    \n",
        "  elif n<s:\n",
        "    min=n\n",
        "    print(\"請輸入%d-%d任意一整數\" %(min,max))"
      ],
      "execution_count": null,
      "outputs": [
        {
          "output_type": "stream",
          "text": [
            "46\n",
            "請輸入任意一整數:50\n",
            "請輸入0-50任意一整數\n",
            "請輸入任意一整數:60\n",
            "請輸入小於50的數字\n",
            "請輸入任意一整數:40\n",
            "請輸入40-50任意一整數\n",
            "請輸入任意一整數:30\n",
            "請輸入大於40的數字\n"
          ],
          "name": "stdout"
        }
      ]
    },
    {
      "cell_type": "code",
      "metadata": {
        "id": "sBFEyh3qU49f"
      },
      "source": [
        "＿"
      ],
      "execution_count": null,
      "outputs": []
    }
  ]
}