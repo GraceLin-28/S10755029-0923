{
  "nbformat": 4,
  "nbformat_minor": 0,
  "metadata": {
    "colab": {
      "name": "Untitled0.ipynb",
      "provenance": [],
      "collapsed_sections": [],
      "authorship_tag": "ABX9TyO3CLgP4D5/nVyASQYGGzFu",
      "include_colab_link": true
    },
    "kernelspec": {
      "name": "python3",
      "display_name": "Python 3"
    }
  },
  "cells": [
    {
      "cell_type": "markdown",
      "metadata": {
        "id": "view-in-github",
        "colab_type": "text"
      },
      "source": [
        "<a href=\"https://colab.research.google.com/github/GraceLin-28/S10755029-0923/blob/master/20201021SearchAlgorithm.ipynb\" target=\"_parent\"><img src=\"https://colab.research.google.com/assets/colab-badge.svg\" alt=\"Open In Colab\"/></a>"
      ]
    },
    {
      "cell_type": "markdown",
      "metadata": {
        "id": "7XU2AX4yOxVh"
      },
      "source": [
        "線性探測法"
      ]
    },
    {
      "cell_type": "code",
      "metadata": {
        "id": "lN6D7JDIGtOw",
        "outputId": "720465d5-9cda-4a29-cf2d-d48aeb364aec",
        "colab": {
          "base_uri": "https://localhost:8080/",
          "height": 218
        }
      },
      "source": [
        "import random\n",
        "\n",
        "INDEXBOX=10\n",
        "MAXNUM=7\n",
        "\n",
        "def print_data(data,max_number):\n",
        "  print('\\t',end='')\n",
        "  for i in range(max_number):\n",
        "    print('[%2d]' %data[i],end='')\n",
        "  print()\n",
        "def create_table(num,index):\n",
        "  tmp=num%INDEXBOX\n",
        "  while True:\n",
        "    if index[tmp]==-1:    #如果位置是空的\n",
        "      index[tmp]=num    #則直接存入資料\n",
        "      break\n",
        "    else:\n",
        "      tmp=(tmp+1)%INDEXBOX  #否則往後找位置存放\n",
        "\n",
        "index=[None]*INDEXBOX\n",
        "data=[None]*MAXNUM\n",
        "\n",
        "print('原始陣列值:')\n",
        "for i in range(MAXNUM):\n",
        "  data[i]=random.randint(1,20)\n",
        "for i in range(INDEXBOX):\n",
        "  index[i]=-1\n",
        "print_data(data,MAXNUM)\n",
        "\n",
        "print('雜湊表內容:')\n",
        "for i in range(MAXNUM):\n",
        "  create_table(data[i],index)\n",
        "  print('%2d=>'%data[i],end='')\n",
        "  print_data(index,INDEXBOX)\n",
        "\n",
        "print('完成雜湊表:')\n",
        "print_data(index,INDEXBOX)"
      ],
      "execution_count": null,
      "outputs": [
        {
          "output_type": "stream",
          "text": [
            "原始陣列值:\n",
            "\t[10][ 4][15][ 3][18][ 3][ 6]\n",
            "雜湊表內容:\n",
            "10=>\t[10][-1][-1][-1][-1][-1][-1][-1][-1][-1]\n",
            " 4=>\t[10][-1][-1][-1][ 4][-1][-1][-1][-1][-1]\n",
            "15=>\t[10][-1][-1][-1][ 4][15][-1][-1][-1][-1]\n",
            " 3=>\t[10][-1][-1][ 3][ 4][15][-1][-1][-1][-1]\n",
            "18=>\t[10][-1][-1][ 3][ 4][15][-1][-1][18][-1]\n",
            " 3=>\t[10][-1][-1][ 3][ 4][15][ 3][-1][18][-1]\n",
            " 6=>\t[10][-1][-1][ 3][ 4][15][ 3][ 6][18][-1]\n",
            "完成雜湊表:\n",
            "\t[10][-1][-1][ 3][ 4][15][ 3][ 6][18][-1]\n"
          ],
          "name": "stdout"
        }
      ]
    },
    {
      "cell_type": "markdown",
      "metadata": {
        "id": "tZRHabfQO5dO"
      },
      "source": [
        "平方探測法"
      ]
    },
    {
      "cell_type": "code",
      "metadata": {
        "id": "44uP3nraPSWO",
        "outputId": "864eb2b5-a176-4379-c6f5-4c69db82c8e7",
        "colab": {
          "base_uri": "https://localhost:8080/",
          "height": 217
        }
      },
      "source": [
        "import random\n",
        "\n",
        "INDEXBOX=10\n",
        "MAXNUM=7\n",
        "\n",
        "def print_data(data,max_number):\n",
        "  print('\\t',end='')\n",
        "  for i in range(max_number):\n",
        "    print('[%2d]' %data[i],end='')\n",
        "  print()\n",
        "def create_table(num,index):\n",
        "  a=1\n",
        "  tmp=num%INDEXBOX\n",
        "  while True:\n",
        "    if index[tmp]==-1:  #如果位置是空的\n",
        "      index[tmp]=num  #則直接存入資料\n",
        "      break\n",
        "    else:\n",
        "      print(tmp)\n",
        "      tmp=(tmp+a**2-((a-1)**2))%INDEXBOX #a需要減一，否則跑入迴圈之後，就算沒有執行也會自己加一。\n",
        "      a+=1\n",
        "\n",
        "index=[None]*INDEXBOX\n",
        "data=[None]*MAXNUM\n",
        "\n",
        "print('原始陣列值:')\n",
        "for i in range(MAXNUM):\n",
        "  data[i]=random.randint(1,20)\n",
        "for i in range(INDEXBOX):\n",
        "  index[i]=-1\n",
        "print_data(data,MAXNUM)\n",
        "\n",
        "print('雜湊表內容:')\n",
        "for i in range(MAXNUM):\n",
        "  create_table(data[i],index)\n",
        "  print('%2d=>'%data[i],end='')\n",
        "  print_data(index,INDEXBOX)\n",
        "\n",
        "\n",
        "print('完成雜湊表:')\n",
        "print_data(index,INDEXBOX)"
      ],
      "execution_count": 1,
      "outputs": [
        {
          "output_type": "stream",
          "text": [
            "原始陣列值:\n",
            "\t[11][17][ 5][ 2][ 3][ 8][16]\n",
            "雜湊表內容:\n",
            "11=>\t[-1][11][-1][-1][-1][-1][-1][-1][-1][-1]\n",
            "17=>\t[-1][11][-1][-1][-1][-1][-1][17][-1][-1]\n",
            " 5=>\t[-1][11][-1][-1][-1][ 5][-1][17][-1][-1]\n",
            " 2=>\t[-1][11][ 2][-1][-1][ 5][-1][17][-1][-1]\n",
            " 3=>\t[-1][11][ 2][ 3][-1][ 5][-1][17][-1][-1]\n",
            " 8=>\t[-1][11][ 2][ 3][-1][ 5][-1][17][ 8][-1]\n",
            "16=>\t[-1][11][ 2][ 3][-1][ 5][16][17][ 8][-1]\n",
            "完成雜湊表:\n",
            "\t[-1][11][ 2][ 3][-1][ 5][16][17][ 8][-1]\n"
          ],
          "name": "stdout"
        }
      ]
    },
    {
      "cell_type": "markdown",
      "metadata": {
        "id": "iUFdWzJZPAaG"
      },
      "source": [
        "再雜湊"
      ]
    },
    {
      "cell_type": "code",
      "metadata": {
        "id": "Khdf_pgwPTnW",
        "outputId": "22f203c5-f5d3-4363-a1d1-7a2d804675c8",
        "colab": {
          "base_uri": "https://localhost:8080/",
          "height": 217
        }
      },
      "source": [
        "import random\n",
        "\n",
        "INDEXBOX=10\n",
        "MAXNUM=7\n",
        "\n",
        "def print_data(data,max_number):\n",
        "  print('\\t',end='')\n",
        "  for i in range(max_number):\n",
        "    print('[%2d]' %data[i],end='')\n",
        "  print()\n",
        "def create_table(num,index):\n",
        "  tmp=num%INDEXBOX\n",
        "  b=1\n",
        "  while True:\n",
        "    if index[tmp]==-1:    #如果位置是空的\n",
        "      index[tmp]=num    #則直接存入資料\n",
        "      break\n",
        "    else:\n",
        "      tmp=(tmp+b*2-((b-1)*2))%INDEXBOX\n",
        "      b+=1\n",
        "\n",
        "index=[None]*INDEXBOX\n",
        "data=[None]*MAXNUM\n",
        "\n",
        "print('原始陣列值:')\n",
        "for i in range(MAXNUM):\n",
        "  data[i]=random.randint(1,20)\n",
        "for i in range(INDEXBOX):\n",
        "  index[i]=-1\n",
        "print_data(data,MAXNUM)\n",
        "\n",
        "print('雜湊表內容:')\n",
        "for i in range(MAXNUM):\n",
        "  create_table(data[i],index)\n",
        "  print('%2d=>'%data[i],end='')\n",
        "  print_data(index,INDEXBOX)\n",
        "\n",
        "print('完成雜湊表:')\n",
        "print_data(index,INDEXBOX)"
      ],
      "execution_count": 7,
      "outputs": [
        {
          "output_type": "stream",
          "text": [
            "原始陣列值:\n",
            "\t[ 3][ 4][ 2][ 2][ 3][ 3][ 3]\n",
            "雜湊表內容:\n",
            " 3=>\t[-1][-1][-1][ 3][-1][-1][-1][-1][-1][-1]\n",
            " 4=>\t[-1][-1][-1][ 3][ 4][-1][-1][-1][-1][-1]\n",
            " 2=>\t[-1][-1][ 2][ 3][ 4][-1][-1][-1][-1][-1]\n",
            " 2=>\t[-1][-1][ 2][ 3][ 4][-1][ 2][-1][-1][-1]\n",
            " 3=>\t[-1][-1][ 2][ 3][ 4][ 3][ 2][-1][-1][-1]\n",
            " 3=>\t[-1][-1][ 2][ 3][ 4][ 3][ 2][ 3][-1][-1]\n",
            " 3=>\t[-1][-1][ 2][ 3][ 4][ 3][ 2][ 3][-1][ 3]\n",
            "完成雜湊表:\n",
            "\t[-1][-1][ 2][ 3][ 4][ 3][ 2][ 3][-1][ 3]\n"
          ],
          "name": "stdout"
        }
      ]
    }
  ]
}