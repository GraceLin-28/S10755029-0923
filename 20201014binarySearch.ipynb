{
  "nbformat": 4,
  "nbformat_minor": 0,
  "metadata": {
    "colab": {
      "name": "Untitled1.ipynb",
      "provenance": [],
      "authorship_tag": "ABX9TyPZxpCOey64djfT9q8+eLwJ",
      "include_colab_link": true
    },
    "kernelspec": {
      "name": "python3",
      "display_name": "Python 3"
    }
  },
  "cells": [
    {
      "cell_type": "markdown",
      "metadata": {
        "id": "view-in-github",
        "colab_type": "text"
      },
      "source": [
        "<a href=\"https://colab.research.google.com/github/GraceLin-28/S10755029-0923/blob/master/20201014binarySearch.ipynb\" target=\"_parent\"><img src=\"https://colab.research.google.com/assets/colab-badge.svg\" alt=\"Open In Colab\"/></a>"
      ]
    },
    {
      "cell_type": "code",
      "metadata": {
        "id": "qk-7pHh0-WuK",
        "cellView": "both",
        "outputId": "8101d8a8-9f57-401b-922a-38c8bc1236c5",
        "colab": {
          "base_uri": "https://localhost:8080/",
          "height": 168
        }
      },
      "source": [
        "def binarySearch (arr,l,r,x):\n",
        "  if r>=l:\n",
        "    mid = l+(r-l)//2\n",
        "    if arr[mid]==x:\n",
        "      return mid\n",
        "    elif arr[mid]>x:\n",
        "      return binarySearch(arr,l,mid-1,x)\n",
        "    else:\n",
        "      return binarySearch(arr,mid+1,r,x)\n",
        "  else:\n",
        "    return-1\n",
        "def Bubble_Sort(datas):\n",
        "  for i in range(1, len(datas)): # \n",
        "    for j in range(len(datas)-i):   # \n",
        "      if datas[j] > datas[j+1]:   # \n",
        "        datas[j], datas[j+1] = datas[j+1], datas[j]\n",
        "  return datas\n",
        "\n",
        "\n",
        "p = []                 #設定一個清單\n",
        "i=1                   #i為輸入數字的次數\n",
        "while i<=5:               #輸入5個數字，所以次數為小於等於5\n",
        "  n = int(input(\"請輸入數字:\"))   #n為輸入的字串要是整數，所以用int包起來\n",
        "  p.append(n)             #要將n加入清單\n",
        "  i=i+1                #計算輸入幾次數字，也就是計算輸入幾個數字\n",
        "print(p)              #把清單目前狀況列出來\n",
        "v = Bubble_Sort(p)        #泡沫排序法此清單\n",
        "print(v)              #把排序過後的清單列出來\n",
        "\n",
        "x=int(input(\"請輸入key value:\"))\n",
        "result = binarySearch(v,0,len(v)-1,x)\n",
        "\n",
        "\n",
        "\n",
        "if result !=-1:\n",
        "  print(\"元素索引%d\" % result)\n",
        "else:\n",
        "  print(\"陣列中找不到該元素\")"
      ],
      "execution_count": null,
      "outputs": [
        {
          "output_type": "stream",
          "text": [
            "請輸入數字:10\n",
            "請輸入數字:30\n",
            "請輸入數字:6\n",
            "請輸入數字:9\n",
            "請輸入數字:5\n",
            "[10, 30, 6, 9, 5]\n",
            "[5, 6, 9, 10, 30]\n",
            "請輸入key value:5\n",
            "元素索引0\n"
          ],
          "name": "stdout"
        }
      ]
    }
  ]
}