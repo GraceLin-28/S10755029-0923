{
  "nbformat": 4,
  "nbformat_minor": 0,
  "metadata": {
    "colab": {
      "name": "Untitled0.jpython",
      "provenance": [],
      "authorship_tag": "ABX9TyObVVonKf37IM5KFFYgKHZs",
      "include_colab_link": true
    },
    "kernelspec": {
      "name": "python3",
      "display_name": "Python 3"
    }
  },
  "cells": [
    {
      "cell_type": "markdown",
      "metadata": {
        "id": "view-in-github",
        "colab_type": "text"
      },
      "source": [
        "<a href=\"https://colab.research.google.com/github/GraceLin-28/S10755029-0923/blob/master/20201007%E8%88%89%E4%BE%8B%E6%99%82%E9%96%93%E7%A9%BA%E9%96%93%E4%BA%92%E6%8F%9B.ipynb\" target=\"_parent\"><img src=\"https://colab.research.google.com/assets/colab-badge.svg\" alt=\"Open In Colab\"/></a>"
      ]
    },
    {
      "cell_type": "markdown",
      "metadata": {
        "id": "P6bzUzhbDRHc"
      },
      "source": [
        "尋找最大公因數，空間換時間。\n"
      ]
    },
    {
      "cell_type": "code",
      "metadata": {
        "id": "CNikmmAMDG1O",
        "outputId": "d6fa65f1-3a37-423f-fc04-732a438180cc",
        "colab": {
          "base_uri": "https://localhost:8080/"
        }
      },
      "source": [
        "def gcd(m, n):\n",
        "    return m if n == 0 else gcd(n, m % n)\n",
        "\n",
        "#def lcm(m, n):              最小公倍數\n",
        "#    return m * n // gcd(m, n)\n",
        "    \n",
        "m = int(input(\"輸入 m：\"))\n",
        "n = int(input(\"輸入 n：\"))\n",
        "print(\"Gcd: \", gcd(m, n))\n",
        "#print(\"Lcm: \", lcm(m, n))        最小公倍數\n",
        "\n"
      ],
      "execution_count": 12,
      "outputs": [
        {
          "output_type": "stream",
          "text": [
            "輸入 m：50\n",
            "輸入 n：60\n",
            "Gcd:  10\n"
          ],
          "name": "stdout"
        }
      ]
    },
    {
      "cell_type": "markdown",
      "metadata": {
        "id": "dy-66AxJDfvU"
      },
      "source": [
        "尋找最大公因數，時間換空間，遞迴法。"
      ]
    },
    {
      "cell_type": "code",
      "metadata": {
        "id": "uecSy_VyDe92",
        "outputId": "ec9c38e9-4609-44f1-ed46-f2824da73734",
        "colab": {
          "base_uri": "https://localhost:8080/",
          "height": 130
        }
      },
      "source": [
        ""
      ],
      "execution_count": 13,
      "outputs": [
        {
          "output_type": "error",
          "ename": "IndentationError",
          "evalue": "ignored",
          "traceback": [
            "\u001b[0;36m  File \u001b[0;32m\"<ipython-input-13-e9a454f3866b>\"\u001b[0;36m, line \u001b[0;32m2\u001b[0m\n\u001b[0;31m    if a>b:\u001b[0m\n\u001b[0m     ^\u001b[0m\n\u001b[0;31mIndentationError\u001b[0m\u001b[0;31m:\u001b[0m expected an indented block\n"
          ]
        }
      ]
    }
  ]
}