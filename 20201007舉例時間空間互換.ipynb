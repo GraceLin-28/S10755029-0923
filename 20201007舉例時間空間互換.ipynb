{
  "nbformat": 4,
  "nbformat_minor": 0,
  "metadata": {
    "colab": {
      "name": "Untitled0.jpython",
      "provenance": [],
      "include_colab_link": true
    },
    "kernelspec": {
      "name": "python3",
      "display_name": "Python 3"
    }
  },
  "cells": [
    {
      "cell_type": "markdown",
      "metadata": {
        "id": "view-in-github",
        "colab_type": "text"
      },
      "source": [
        "<a href=\"https://colab.research.google.com/github/GraceLin-28/S10755029-0923/blob/master/20201007%E8%88%89%E4%BE%8B%E6%99%82%E9%96%93%E7%A9%BA%E9%96%93%E4%BA%92%E6%8F%9B.ipynb\" target=\"_parent\"><img src=\"https://colab.research.google.com/assets/colab-badge.svg\" alt=\"Open In Colab\"/></a>"
      ]
    },
    {
      "cell_type": "markdown",
      "metadata": {
        "id": "P6bzUzhbDRHc"
      },
      "source": [
        "尋找最大公因數，時間換空間，遞迴法。\n"
      ]
    },
    {
      "cell_type": "code",
      "metadata": {
        "id": "CNikmmAMDG1O",
        "outputId": "d2ea168a-9842-483b-d477-579f2abaee5f",
        "colab": {
          "base_uri": "https://localhost:8080/",
          "height": 67
        }
      },
      "source": [
        "def gcd(m, n):\n",
        "    if n == 0:\n",
        "        return m\n",
        "    else:\n",
        "        return gcd(n, m % n)\n",
        "m = int(input(\"第一個數字：\"))\n",
        "n = int(input(\"第二個數字：\"))\n",
        "\n",
        "print(\"最大公因數: \", gcd(m, n))\n"
      ],
      "execution_count": 13,
      "outputs": [
        {
          "output_type": "stream",
          "text": [
            "第一個數字：30\n",
            "第二個數字：0\n",
            "最大公因數:  30\n"
          ],
          "name": "stdout"
        }
      ]
    },
    {
      "cell_type": "markdown",
      "metadata": {
        "id": "dy-66AxJDfvU"
      },
      "source": [
        "尋找最大公因數，空間換時間。"
      ]
    },
    {
      "cell_type": "code",
      "metadata": {
        "id": "uecSy_VyDe92",
        "outputId": "9345d7c4-ad95-4510-b8eb-fccde3ccd868",
        "colab": {
          "base_uri": "https://localhost:8080/",
          "height": 67
        }
      },
      "source": [
        "x = int(input(\"第一個數字: \"))\n",
        "y = int(input(\"第二個數字: \"))\n",
        "while( x > 0 and y > 0 ):            # 輾轉相除法，算到其中一個數為0為止\n",
        "        if ( x > y ):            # 大的整除小的，並取餘數 (輾轉相除法算法)\n",
        "          x = x % y\n",
        "        else:\n",
        "          y = y % x\n",
        "if ( x== 0 ):                     # 其中一個為0，則另一個數將會是原來這2個數的最大公因數\n",
        "        print(\"最大公因數:\" + str(y))\n",
        "else:\n",
        "        print(\"最大公因數:\" + str(x))\n"
      ],
      "execution_count": 12,
      "outputs": [
        {
          "output_type": "stream",
          "text": [
            "第一個數字: 0\n",
            "第二個數字: 3\n",
            "最大公因數:3\n"
          ],
          "name": "stdout"
        }
      ]
    }
  ]
}