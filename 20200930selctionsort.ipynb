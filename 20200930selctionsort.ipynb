{
  "nbformat": 4,
  "nbformat_minor": 0,
  "metadata": {
    "colab": {
      "name": "selctionsort.ipynb",
      "provenance": [],
      "collapsed_sections": [],
      "include_colab_link": true
    },
    "kernelspec": {
      "name": "python3",
      "display_name": "Python 3"
    }
  },
  "cells": [
    {
      "cell_type": "markdown",
      "metadata": {
        "id": "view-in-github",
        "colab_type": "text"
      },
      "source": [
        "<a href=\"https://colab.research.google.com/github/GraceLin-28/S10755029-0923/blob/master/20200930selctionsort.ipynb\" target=\"_parent\"><img src=\"https://colab.research.google.com/assets/colab-badge.svg\" alt=\"Open In Colab\"/></a>"
      ]
    },
    {
      "cell_type": "markdown",
      "metadata": {
        "id": "W-Z0kMaDLJOp"
      },
      "source": [
        "Selection sort (選擇排序)"
      ]
    },
    {
      "cell_type": "code",
      "metadata": {
        "id": "8tM3sv79HQ_V",
        "outputId": "d55f78af-2018-49d9-c26e-1ad9384db919",
        "colab": {
          "base_uri": "https://localhost:8080/",
          "height": 351
        }
      },
      "source": [
        "def Selction_Sort(datas):                                         # n為矩陣長度\n",
        "    for i in range(len(datas)-1):                                  # n-1\n",
        "        min = i                 #第一次選從第一個數開始,第二次從第二個數開始  # (n-1)*1\n",
        "        for j in range(i+1, len(datas)):   #用記錄的max數與其他的比較            # (n-1)*(n-1)\n",
        "            if datas[j] < datas[min]:                            # (n-1)*(n-1)*1\n",
        "                min = j                                 # (n-1)*(n-1)*1*1\n",
        "                                                      ##結算:(n-1)+(n-1)+(n-1)²+(n-1)²+(n-1)² = 3(n-1)²+2(n-1)\n",
        "                                                      #時間複雜度為 Ｏ(n²)\n",
        "        datas[i], datas[min] = datas[min], datas[i]\n",
        "\n",
        "        print(datas)\n",
        "        print('---'*10)\n",
        "    return datas\n",
        "\n",
        "\n",
        "if __name__ == '__main__':\n",
        "    import random\n",
        "    a = list(range(10))\n",
        "    random.shuffle(a)\n",
        "    print(a)\n",
        "    a = Selction_Sort(a)\n",
        "    print(a)"
      ],
      "execution_count": 1,
      "outputs": [
        {
          "output_type": "stream",
          "text": [
            "[2, 5, 8, 4, 7, 3, 9, 6, 0, 1]\n",
            "[0, 5, 8, 4, 7, 3, 9, 6, 2, 1]\n",
            "------------------------------\n",
            "[0, 1, 8, 4, 7, 3, 9, 6, 2, 5]\n",
            "------------------------------\n",
            "[0, 1, 2, 4, 7, 3, 9, 6, 8, 5]\n",
            "------------------------------\n",
            "[0, 1, 2, 3, 7, 4, 9, 6, 8, 5]\n",
            "------------------------------\n",
            "[0, 1, 2, 3, 4, 7, 9, 6, 8, 5]\n",
            "------------------------------\n",
            "[0, 1, 2, 3, 4, 5, 9, 6, 8, 7]\n",
            "------------------------------\n",
            "[0, 1, 2, 3, 4, 5, 6, 9, 8, 7]\n",
            "------------------------------\n",
            "[0, 1, 2, 3, 4, 5, 6, 7, 8, 9]\n",
            "------------------------------\n",
            "[0, 1, 2, 3, 4, 5, 6, 7, 8, 9]\n",
            "------------------------------\n",
            "[0, 1, 2, 3, 4, 5, 6, 7, 8, 9]\n"
          ],
          "name": "stdout"
        }
      ]
    },
    {
      "cell_type": "markdown",
      "metadata": {
        "id": "MiWPt8bALDN5"
      },
      "source": [
        "請加入註解\n"
      ]
    }
  ]
}