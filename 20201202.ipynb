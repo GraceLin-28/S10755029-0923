{
  "nbformat": 4,
  "nbformat_minor": 0,
  "metadata": {
    "colab": {
      "name": "Untitled0.ipynb",
      "provenance": [],
      "include_colab_link": true
    },
    "kernelspec": {
      "name": "python3",
      "display_name": "Python 3"
    }
  },
  "cells": [
    {
      "cell_type": "markdown",
      "metadata": {
        "id": "view-in-github",
        "colab_type": "text"
      },
      "source": [
        "<a href=\"https://colab.research.google.com/github/GraceLin-28/S10755029-0923/blob/master/20201202.ipynb\" target=\"_parent\"><img src=\"https://colab.research.google.com/assets/colab-badge.svg\" alt=\"Open In Colab\"/></a>"
      ]
    },
    {
      "cell_type": "code",
      "metadata": {
        "colab": {
          "base_uri": "https://localhost:8080/"
        },
        "id": "hzwk24jZKp2h",
        "outputId": "f8abfb92-4d1f-4de6-8126-cd4c590606f0"
      },
      "source": [
        "t=[25,20,5,1]\n",
        "number=int(input(\"請輸入一個金額:\"))\n",
        "\n",
        "def change (t,n):\n",
        "  a = 1\n",
        "  m = [0 for _ in range(len(t))]\n",
        "  for i,money in enumerate(t):\n",
        "    m[i] = n // money\n",
        "    n = n % money\n",
        "    print(m,n)\n",
        "    a+=1\n",
        "  print(\"總共須要%d個硬幣數量\"%a)\n",
        "  return m,n\n",
        "  \n",
        "change(t,number)"
      ],
      "execution_count": null,
      "outputs": [
        {
          "output_type": "stream",
          "text": [
            "請輸入一個金額:41\n",
            "[1, 0, 0, 0] 16\n",
            "[1, 0, 0, 0] 16\n",
            "[1, 0, 3, 0] 1\n",
            "[1, 0, 3, 1] 0\n",
            "總共須要5個硬幣數量\n"
          ],
          "name": "stdout"
        },
        {
          "output_type": "execute_result",
          "data": {
            "text/plain": [
              "([1, 0, 3, 1], 0)"
            ]
          },
          "metadata": {
            "tags": []
          },
          "execution_count": 36
        }
      ]
    },
    {
      "cell_type": "markdown",
      "metadata": {
        "id": "JMVZSD27V5aS"
      },
      "source": [
        "動態規劃"
      ]
    },
    {
      "cell_type": "code",
      "metadata": {
        "colab": {
          "base_uri": "https://localhost:8080/"
        },
        "id": "zHNfFnZDW4f0",
        "outputId": "a9327536-91b1-4f7e-c128-aa20b56b2d3e"
      },
      "source": [
        "def coin_change(coins,change,dp,coins_used):\n",
        "\t#利用動態求解找零需要的硬幣數量，以及硬幣的使用情况\n",
        "\tfor i in range(1,change+1):\n",
        "\t\t#依次求解，dp[1]到dp[change]\n",
        "\t\tfor j in range(len(coins)):\n",
        "\t\t\tif coins[j]<=i:\n",
        "\t\t\t\t#使用這硬幣之前，硬幣的金额数<=需要找零的金额，比如：找零20元，不能使用25的硬幣\n",
        "\t\t\t\tif dp[i-coins[j]]+1<dp[i]:\n",
        "\t\t\t\t\t#dp[i]=min(dp[i],dp[i-coins[j]]+1)\n",
        "\t\t\t\t\tdp[i]=dp[i-coins[j]]+1\n",
        "\t\t\t\t\t#用來記錄使用的硬幣\n",
        "\t\t\t\t\tnew_coin=coins[j]\n",
        "\t\tcoins_used[i]=new_coin\n",
        " \n",
        "\tif dp[change]>change:       #初始化時設置 dp[change]=change+1，無解時可以使用\n",
        "\t\treturn -1\n",
        "\telse:\n",
        "\t\treturn dp[change]\n",
        "def used_coins(change,used_coins):   #利用used_coins求解使用的硬幣\n",
        "\tre=[]\n",
        "\twhile change:           #dp[i]=dp[i-coins[j]]+1\n",
        "\t\ttmp=used_coins[change]     #coins[j] = used_coins[change]\n",
        "\t\tre.append(tmp)\n",
        "\t\tchange-=tmp\n",
        "\treturn re\n",
        " \n",
        "if __name__=='__main__':\n",
        "\tcoins=[25,20,5,1]         #錢幣種類\n",
        "\tchange=int(input(\"請輸入找零金額:\"))             #找零金額\n",
        "\tdp=[change+1]*(change+1)\n",
        "\tdp[0]=0\n",
        "\tcoins_used=[0]*(change+1)\n",
        " \n",
        "\tre=coin_change(coins,change,dp,coins_used)\n",
        "\tre_coins=used_coins(change,coins_used)\n",
        "\tprint(\"找零金額為{0}元，需要{1}個錢幣,分别是{2}\".format(change,re,re_coins))"
      ],
      "execution_count": 3,
      "outputs": [
        {
          "output_type": "stream",
          "text": [
            "請輸入找零金額:71\n",
            "找零金額為71元，需要4個錢幣,分别是[25, 25, 20, 1]\n"
          ],
          "name": "stdout"
        }
      ]
    },
    {
      "cell_type": "markdown",
      "metadata": {
        "id": "9A4l7n6Liw9U"
      },
      "source": [
        "背包問題:小偷偷東西"
      ]
    },
    {
      "cell_type": "code",
      "metadata": {
        "id": "oc0_isnpi4g0",
        "outputId": "a42ca3cd-ad98-470f-e0c4-4aec71418349",
        "colab": {
          "base_uri": "https://localhost:8080/"
        }
      },
      "source": [
        "def fractional_knapsack(value, weight, capacity):\n",
        "    \"\"\"Return maximum value of items and their fractional amounts.\n",
        " \n",
        "    (max_value, fractions) is returned where max_value is the maximum value of\n",
        "    items with total weight not more than capacity.\n",
        "    fractions is a list where fractions[i] is the fraction that should be taken\n",
        "    of item i, where 0 <= i < total number of items.\n",
        " \n",
        "    value[i] is the value of item i and weight[i] is the weight of item i\n",
        "    for 0 <= i < n where n is the number of items.\n",
        " \n",
        "    capacity is the maximum weight.\n",
        "    \"\"\"\n",
        "    \n",
        "    index = list(range(len(value))) #索引值裡面的價值的清單\n",
        "    ratio = [v/w for v, w in zip(value, weight)] #價值除以重量，算出價值比，後續可以此數字做為比較數據\n",
        "    index.sort(key=lambda i: ratio[i], reverse=True) #按比率(價值比)從高排到低\n",
        " \n",
        "    max_value = 0                  #一個空的位置儲存max_value的變數值\n",
        "    fractions = [0]*len(value)            #從陣列中第0個開始乘它的價值\n",
        "    for i in index:\n",
        "        if weight[i] <= capacity:       #判斷當時第 i 個位置上物品的重量是否小於可承受之最大值\n",
        "            fractions[i] = 1        #而若小於最大容量時，數值則為1，代表有拿\n",
        "            max_value += value[i]      #而當下所裝入背包的物品價值隨之而變，需要將此物品價值加上去\n",
        "            capacity -= weight[i]     #而所剩重量則需由最大容量扣掉當下所拿的物品重量\n",
        "        else:\n",
        "            fractions[i] = capacity/weight[i]\n",
        "            max_value += value[i]*capacity/weight[i]\n",
        "            break\n",
        " \n",
        "    return max_value, fractions\n",
        " \n",
        " \n",
        "n = int(input('Enter number of items: '))\n",
        "value = input('Enter the values of the {} item(s) in order: '.format(n)).split()\n",
        "value = [int(v) for v in value]\n",
        "\n",
        "weight = input('Enter the positive weights of the {} item(s) in order: '.format(n)).split()\n",
        "weight = [int(w) for w in weight]\n",
        "\n",
        "capacity = int(input('Enter maximum weight: '))\n",
        " \n",
        "max_value, fractions = fractional_knapsack(value, weight, capacity)\n",
        "print('The maximum value of items that can be carried:', max_value)\n",
        "print('The fractions in which the items should be taken:', fractions)"
      ],
      "execution_count": 6,
      "outputs": [
        {
          "output_type": "stream",
          "text": [
            "Enter number of items: 500\n",
            "Enter the values of the 500 item(s) in order: 10\n",
            "Enter the positive weights of the 500 item(s) in order: 20\n",
            "Enter maximum weight: 5\n",
            "The maximum value of items that can be carried: 2.5\n",
            "The fractions in which the items should be taken: [0.25]\n"
          ],
          "name": "stdout"
        }
      ]
    }
  ]
}