{
  "nbformat": 4,
  "nbformat_minor": 0,
  "metadata": {
    "colab": {
      "name": "Untitled0.ipynb",
      "provenance": [],
      "collapsed_sections": [],
      "authorship_tag": "ABX9TyPARom3pj/jp2ns90y8JuYk",
      "include_colab_link": true
    },
    "kernelspec": {
      "name": "python3",
      "display_name": "Python 3"
    }
  },
  "cells": [
    {
      "cell_type": "markdown",
      "metadata": {
        "id": "view-in-github",
        "colab_type": "text"
      },
      "source": [
        "<a href=\"https://colab.research.google.com/github/GraceLin-28/S10755029-0923/blob/master/SequentialSearch.ipynb\" target=\"_parent\"><img src=\"https://colab.research.google.com/assets/colab-badge.svg\" alt=\"Open In Colab\"/></a>"
      ]
    },
    {
      "cell_type": "markdown",
      "metadata": {
        "id": "uIlgSyHRD6FY"
      },
      "source": [
        "原始"
      ]
    },
    {
      "cell_type": "code",
      "metadata": {
        "id": "tpdbcdxaxhij",
        "outputId": "8d15518f-7e2e-45ae-8e9a-fe5a627b1906",
        "colab": {
          "base_uri": "https://localhost:8080/",
          "height": 34
        }
      },
      "source": [
        "data={20,31,50,17,16,19,8}\n",
        "def sequential_search(data,key):\n",
        "  for i in data:\n",
        "    if i==key:\n",
        "      print(\"找到了\")\n",
        "  \n",
        "sequential_search(data,20)"
      ],
      "execution_count": 88,
      "outputs": [
        {
          "output_type": "stream",
          "text": [
            "找到了\n"
          ],
          "name": "stdout"
        }
      ]
    },
    {
      "cell_type": "markdown",
      "metadata": {
        "id": "Om6_0yjvD_MR"
      },
      "source": [
        "更改後"
      ]
    },
    {
      "cell_type": "code",
      "metadata": {
        "id": "OBSdKrDz2kvp",
        "outputId": "32763147-1076-4b4b-8225-30edf193c921",
        "colab": {
          "base_uri": "https://localhost:8080/",
          "height": 34
        }
      },
      "source": [
        "data=[20,31,50,17,16,19,8]\n",
        "found=True\n",
        "def sequential_search(data,key):\n",
        "  for i in data: \n",
        "    if i==key:\n",
        "      print(\"找到了\")\n",
        "      found = True\n",
        "      break\n",
        "    else:\n",
        "      found = False\n",
        "  if found==False:\n",
        "      print(\"找不到\")\n",
        "\n",
        "sequential_search(data,35)"
      ],
      "execution_count": 87,
      "outputs": [
        {
          "output_type": "stream",
          "text": [
            "找不到\n"
          ],
          "name": "stdout"
        }
      ]
    }
  ]
}